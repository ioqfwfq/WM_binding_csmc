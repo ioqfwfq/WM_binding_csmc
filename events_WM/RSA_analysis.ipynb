{
  "cells": [
    {
      "cell_type": "markdown",
      "metadata": {
        "vscode": {
          "languageId": "raw"
        }
      },
      "source": [
        "# Working Memory Feature Binding: RSA Analysis\n",
        "Encoding Period (Stimulus 1)"
      ]
    },
    {
      "cell_type": "markdown",
      "metadata": {
        "vscode": {
          "languageId": "raw"
        }
      },
      "source": [
        "## 1: Import Libraries and Setup\n"
      ]
    },
    {
      "cell_type": "code",
      "execution_count": 1,
      "metadata": {},
      "outputs": [],
      "source": [
        "import glob\n",
        "import os\n",
        "import numpy as np\n",
        "import pandas as pd\n",
        "import matplotlib.pyplot as plt\n",
        "import seaborn as sns\n",
        "from scipy.spatial.distance import pdist, squareform\n",
        "from scipy.stats import spearmanr, zscore\n",
        "from sklearn.svm import SVC\n",
        "from sklearn.preprocessing import StandardScaler\n",
        "from sklearn.pipeline import Pipeline\n",
        "from sklearn.model_selection import StratifiedKFold, cross_val_score\n",
        "from sklearn.metrics import confusion_matrix\n",
        "from scipy.io import loadmat\n",
        "import warnings\n",
        "warnings.filterwarnings('ignore')\n",
        "\n",
        "# Set plotting style\n",
        "plt.style.use('seaborn-v0_8-darkgrid')\n",
        "sns.set_palette(\"husl\")\n"
      ]
    },
    {
      "cell_type": "markdown",
      "metadata": {
        "vscode": {
          "languageId": "raw"
        }
      },
      "source": [
        "## 2: Load and Prepare Data\n"
      ]
    },
    {
      "cell_type": "markdown",
      "metadata": {},
      "source": [
        "### Loading MATLAB Data Files\n",
        "\n",
        "Loading of MATLAB data files containing neural recordings and trial information."
      ]
    },
    {
      "cell_type": "code",
      "execution_count": 2,
      "metadata": {},
      "outputs": [
        {
          "name": "stdout",
          "output_type": "stream",
          "text": [
            "Found 4 .mat files: ['WMB_P106_1_20250511_v7.mat', 'WMB_P107_1_20250511_v7.mat', 'WMB_P108_1_20250511_v7.mat', 'WMB_P108_2_20250511_v7.mat']\n",
            "\n",
            "Loading .\\WMB_P106_1_20250511_v7.mat...\n",
            "\n",
            "Loading .\\WMB_P107_1_20250511_v7.mat...\n",
            "\n",
            "Loading .\\WMB_P108_1_20250511_v7.mat...\n",
            "\n",
            "Loading .\\WMB_P108_2_20250511_v7.mat...\n",
            "\n",
            "Shapes of loaded data:\n",
            "File 0: cell_mat shape: (1, 125), total_mat shape: (125, 6)\n",
            "File 1: cell_mat shape: (1, 180), total_mat shape: (180, 6)\n",
            "File 2: cell_mat shape: (1, 127), total_mat shape: (127, 6)\n",
            "File 3: cell_mat shape: (1, 80), total_mat shape: (80, 6)\n"
          ]
        }
      ],
      "source": [
        "# Find all WMB_P*_v7.mat files in the current directory\n",
        "mat_files = glob.glob('./WMB_P*_v7.mat')\n",
        "print(f\"Found {len(mat_files)} .mat files: {[os.path.basename(f) for f in mat_files]}\")\n",
        "\n",
        "# Initialize lists to store data from each file\n",
        "cell_mats = []\n",
        "total_mats = []\n",
        "\n",
        "# Load each file and append its data\n",
        "for mat_file in mat_files:\n",
        "    print(f\"\\nLoading {mat_file}...\")\n",
        "    mat_data = loadmat(mat_file)\n",
        "    cell_mats.append(mat_data['cellStatsAll'])\n",
        "    total_mats.append(mat_data['totStats'])\n",
        "\n",
        "# Print shapes of loaded data for debugging\n",
        "print(\"\\nShapes of loaded data:\")\n",
        "for i, (cell, total) in enumerate(zip(cell_mats, total_mats)):\n",
        "    print(f\"File {i}: cell_mat shape: {cell.shape}, total_mat shape: {total.shape}\")"
      ]
    },
    {
      "cell_type": "code",
      "execution_count": 3,
      "metadata": {},
      "outputs": [
        {
          "name": "stdout",
          "output_type": "stream",
          "text": [
            "\n",
            "Combined data shape - total_mat: (512, 6)\n",
            "\n",
            "Combined data shape - df: (512, 33)\n"
          ]
        }
      ],
      "source": [
        "# Combine the data\n",
        "# For cell_mat, we need to handle the different dimensions\n",
        "# First, convert each cell_mat to a list of records\n",
        "all_cell_records = []\n",
        "for cell_mat in cell_mats:\n",
        "    # Convert to list of records\n",
        "    cell_list = cell_mat[0]  # now shape is (n,)\n",
        "    records = []\n",
        "    for cell in cell_list:\n",
        "        record = {key: cell[key] for key in cell.dtype.names}\n",
        "        records.append(record)\n",
        "    all_cell_records.extend(records)\n",
        "\n",
        "# Convert combined records to DataFrame\n",
        "df = pd.DataFrame(all_cell_records)\n",
        "\n",
        "# For total_mat, we can concatenate directly since they have the same structure\n",
        "total_mat = np.concatenate(total_mats, axis=0)\n",
        "\n",
        "print(f\"\\nCombined data shape - total_mat: {total_mat.shape}\")\n",
        "print(f\"\\nCombined data shape - df: {df.shape}\")"
      ]
    },
    {
      "cell_type": "markdown",
      "metadata": {},
      "source": [
        "### Translates numeric area codes"
      ]
    },
    {
      "cell_type": "code",
      "execution_count": 4,
      "metadata": {},
      "outputs": [],
      "source": [
        "from collections import Counter\n",
        "\n",
        "def count_area_codes(area_column):\n",
        "    \n",
        "    mapping = {\n",
        "        1: 'RH', 2: 'LH', 3: 'RA', 4: 'LA', 5: 'RAC', 6: 'LAC',\n",
        "        7: 'RSMA', 8: 'LSMA', 9: 'RPT', 10: 'LPT', 11: 'ROFC', 12: 'LOFC',\n",
        "        50: 'RFFA', 51: 'REC', 52: 'RCM', 53: 'LCM', 54: 'RPUL', 55: 'LPUL',\n",
        "        56: 'N/A', 57: 'RPRV', 58: 'LPRV'\n",
        "    }\n",
        "    \n",
        "    labels = []\n",
        "    for code in area_column:\n",
        "        label = mapping.get(code, 'Unknown')\n",
        "        labels.append(label)\n",
        "    \n",
        "    return dict(Counter(labels))"
      ]
    },
    {
      "cell_type": "code",
      "execution_count": 5,
      "metadata": {},
      "outputs": [
        {
          "name": "stdout",
          "output_type": "stream",
          "text": [
            "Area counts (no prefix):\n",
            "LAC: 76\n",
            "LSMA: 34\n",
            "LA: 47\n",
            "LH: 31\n",
            "RAC: 25\n",
            "RSMA: 82\n",
            "RA: 69\n",
            "RH: 35\n",
            "LOFC: 50\n",
            "LPT: 5\n",
            "ROFC: 37\n",
            "RPT: 21\n"
          ]
        }
      ],
      "source": [
        "# neuron number in each area\n",
        "area_codes = total_mat[:, 3]\n",
        "\n",
        "counts = count_area_codes(area_codes)\n",
        "print(\"Area counts (no prefix):\")\n",
        "for area, count in counts.items():\n",
        "    print(f\"{area}: {count}\")"
      ]
    },
    {
      "cell_type": "markdown",
      "metadata": {},
      "source": [
        "### Data Preprocessing & Filtering\n",
        "\n",
        "First, we'll format the cell data and collapse brain areas into broader regions:"
      ]
    },
    {
      "cell_type": "code",
      "execution_count": 6,
      "metadata": {},
      "outputs": [],
      "source": [
        "collapsed_area_map = {\n",
        "    1: 'H', 2: 'H',\n",
        "    3: 'A', 4: 'A',\n",
        "    5: 'AC', 6: 'AC',\n",
        "    7: 'SMA', 8: 'SMA',\n",
        "    9: 'PT', 10: 'PT',\n",
        "    11: 'OFC', 12: 'OFC',\n",
        "    50: 'FFA', 51: 'EC',\n",
        "    52: 'CM', 53: 'CM',\n",
        "    54: 'PUL', 55: 'PUL',\n",
        "    56: 'N/A', 57: 'PRV', 58: 'PRV'\n",
        "}\n",
        "# Convert brain area codes in the DataFrame\n",
        "df['brainAreaOfCell'] = df['brainAreaOfCell'].apply(\n",
        "    lambda x: collapsed_area_map.get(int(x[0, 0]), 'Unknown') if isinstance(x, np.ndarray) else collapsed_area_map.get(x, 'Unknown')\n",
        ")"
      ]
    },
    {
      "cell_type": "markdown",
      "metadata": {},
      "source": [
        "### Quality Control & Unit Selection\n",
        "\n",
        "Filtering criteria for reliable unit selection:\n",
        "- Minimum firing rate threshold\n",
        "- Signal quality metrics"
      ]
    },
    {
      "cell_type": "code",
      "execution_count": 7,
      "metadata": {},
      "outputs": [],
      "source": [
        "# Filter out units with low firing rate\n",
        "fr = df['timestamps'].apply(lambda x: len(x) / (x[-1] - x[0]) * 1e6)\n",
        "df_sample_new = df[fr > 0.1].reset_index(drop=True)\n",
        "\n",
        "# unit id\n",
        "df_sample_new = df_sample_new.reset_index(drop=True)\n",
        "df_sample_new[\"unit_id\"] = df_sample_new.index"
      ]
    },
    {
      "cell_type": "markdown",
      "metadata": {},
      "source": [
        "### Trial Data Extraction\n",
        "\n",
        "Extraction and alignment of trial-specific information with neural data:"
      ]
    },
    {
      "cell_type": "code",
      "execution_count": 8,
      "metadata": {},
      "outputs": [],
      "source": [
        "def extract_trial_info(trials_struct, unit_id):\n",
        "    # Build a DataFrame from the trials structure.\n",
        "    df_trial = pd.DataFrame({field: trials_struct[field].squeeze() \n",
        "                             for field in trials_struct.dtype.names})\n",
        "    # Add the unit_id so that you can later separate trials by unit/session.\n",
        "    df_trial[\"unit_id\"] = unit_id\n",
        "    df_trial[\"trial_nr\"] = df_trial[\"trial\"].apply(lambda x: np.squeeze(x).item() if isinstance(x, (list, np.ndarray)) else x) - 1 # Adjust for 0-indexing\n",
        "    return df_trial"
      ]
    },
    {
      "cell_type": "code",
      "execution_count": 9,
      "metadata": {},
      "outputs": [],
      "source": [
        "trial_info_list = []\n",
        "for idx, row in df_sample_new.iterrows():\n",
        "    # Use the unit identifier from this row\n",
        "    unit_id = row[\"unit_id\"]  \n",
        "    # Extract the trial DataFrame, including the unit identifier.\n",
        "    trial_info_list.append(extract_trial_info(row[\"Trials\"], unit_id, ))\n",
        "\n",
        "# Concatenate the list of trial info DataFrames into one.\n",
        "trial_info = pd.concat(trial_info_list, ignore_index=True)"
      ]
    },
    {
      "cell_type": "markdown",
      "metadata": {},
      "source": [
        "### Data Integration & Column Selection\n",
        "\n",
        "Merge neural firing rate data with trial information and select relevant columns for analysis. This step combines the computed firing rates with behavioral trial data to enable selectivity analysis.\n"
      ]
    },
    {
      "cell_type": "code",
      "execution_count": 10,
      "metadata": {},
      "outputs": [
        {
          "name": "stdout",
          "output_type": "stream",
          "text": [
            "Computing firing rates for all task epochs...\n",
            "Computing baseline firing rates...\n",
            "Computing firing rates for fr_epoch...\n",
            "Computing firing rates for fr_del1_epoch...\n",
            "Computing firing rates for fr_enc2_epoch...\n",
            "Computing firing rates for fr_del2_epoch...\n",
            "Computing firing rates for fr_resp_epoch...\n",
            "Expanding dataframe from unit-based to trial-based format...\n",
            "Final neural data shape: (141120, 41)\n"
          ]
        }
      ],
      "source": [
        "def extract_event_timestamps(df_sample_new, start_idx_col='idxEnc1', end_idx_col='idxDel1', is_window=False, window_size=0.5):\n",
        "    \"\"\"\n",
        "    Extract event timestamps for computing firing rates across task epochs.\n",
        "    \n",
        "    Parameters:\n",
        "    -----------\n",
        "    df_sample_new : DataFrame\n",
        "        Neural data with event indices and timestamps\n",
        "    start_idx_col : str\n",
        "        Column name containing start event indices\n",
        "    end_idx_col : str  \n",
        "        Column name containing end event indices\n",
        "    is_window : bool\n",
        "        If True, extract fixed window around start event; if False, extract epoch between start and end\n",
        "    window_size : float\n",
        "        Window size in seconds (only used if is_window=True)\n",
        "        \n",
        "    Returns:\n",
        "    --------\n",
        "    epoch_ts : dict\n",
        "        Dictionary mapping unit_id to array of [start_time, end_time] pairs for each trial\n",
        "    \"\"\"\n",
        "    epoch_ts = {}\n",
        "    \n",
        "    for i, row in df_sample_new.iterrows():\n",
        "        unit_id = row['unit_id']\n",
        "        events = row['events'].squeeze()  # Event timestamps array [trial_idx, event_type, timestamp]\n",
        "        \n",
        "        if is_window:\n",
        "            # Extract fixed window around specific event (e.g., ±0.5s around response)\n",
        "            idxs = row[start_idx_col].squeeze() - 1  # Convert to 0-based indexing\n",
        "            extracted = events[idxs]\n",
        "            center_times = extracted[:, 0]  # Get timestamp column\n",
        "            window_start = center_times - window_size * 1e6  # Convert to microseconds\n",
        "            window_end = center_times + window_size * 1e6\n",
        "            combined = np.column_stack((window_start, window_end))\n",
        "        else:\n",
        "            # Extract epoch between two task events (e.g., encoding to delay)\n",
        "            idxs_start = row[start_idx_col].squeeze() - 1  # Start event indices (0-based)\n",
        "            idxs_end = row[end_idx_col].squeeze() - 1      # End event indices (0-based)\n",
        "            \n",
        "            # Handle mismatched trial counts between start and end events\n",
        "            min_length = min(len(idxs_start), len(idxs_end))\n",
        "            idxs_start = idxs_start[:min_length]\n",
        "            idxs_end = idxs_end[:min_length]\n",
        "            \n",
        "            # Extract timestamps for start and end events\n",
        "            extracted_start = events[idxs_start]  # [n_trials, 3] \n",
        "            extracted_end = events[idxs_end]      # [n_trials, 3]\n",
        "\n",
        "            # Combine start and end timestamps for each trial\n",
        "            combined = np.column_stack((extracted_start[:, 0], extracted_end[:, 0]))\n",
        "        \n",
        "        epoch_ts[unit_id] = combined\n",
        "        \n",
        "    return epoch_ts\n",
        "\n",
        "\n",
        "def compute_firing_rates(df_sample_new, start_idx_col='idxEnc1', end_idx_col='idxDel1', \n",
        "                         fr_prefix='fr', is_window=False, window_size=0.5):\n",
        "    \"\"\"\n",
        "    Compute firing rates for a specific task epoch.\n",
        "    \n",
        "    Parameters:\n",
        "    -----------\n",
        "    df_sample_new : DataFrame\n",
        "        Neural data containing spike timestamps and event indices\n",
        "    start_idx_col : str\n",
        "        Column with start event indices\n",
        "    end_idx_col : str\n",
        "        Column with end event indices  \n",
        "    fr_prefix : str\n",
        "        Prefix for the firing rate column name\n",
        "    is_window : bool\n",
        "        Whether to use fixed window (True) or epoch between events (False)\n",
        "    window_size : float\n",
        "        Window size in seconds (only for is_window=True)\n",
        "        \n",
        "    Returns:\n",
        "    --------\n",
        "    df_sample_new : DataFrame\n",
        "        Input dataframe with added firing rate columns\n",
        "    \"\"\"\n",
        "    # Extract epoch timestamps for all units\n",
        "    epoch_ts = extract_event_timestamps(df_sample_new, start_idx_col, end_idx_col, is_window, window_size)\n",
        "    \n",
        "    # Compute baseline firing rate (1 second before first stimulus) - only on first call\n",
        "    if 'fr_baseline' not in df_sample_new.columns:\n",
        "        print(\"Computing baseline firing rates...\")\n",
        "        \n",
        "        # Get first stimulus onset timestamps\n",
        "        enc_ts = extract_event_timestamps(df_sample_new, 'idxEnc1', 'idxEnc1')\n",
        "        \n",
        "        # Create baseline windows: 1 second before stimulus onset\n",
        "        baseline_ts = {}\n",
        "        for unit_id, timestamps in enc_ts.items():\n",
        "            baseline_start = timestamps[:, 0] - 1e6  # 1 second before (microseconds)\n",
        "            baseline_end = timestamps[:, 0]          # End at stimulus onset\n",
        "            baseline_ts[unit_id] = np.column_stack((baseline_start, baseline_end))\n",
        "            \n",
        "        # Compute baseline firing rates for each unit and trial\n",
        "        df_sample_new['fr_baseline'] = df_sample_new.apply(\n",
        "            lambda row: [\n",
        "                # Count spikes in baseline window and convert to Hz\n",
        "                np.sum((np.ravel(row[\"timestamps\"]) >= baseline_on) & \n",
        "                       (np.ravel(row[\"timestamps\"]) < baseline_off)) / ((baseline_off - baseline_on) / 1e6)\n",
        "                for baseline_on, baseline_off in baseline_ts[row[\"unit_id\"]]\n",
        "            ],\n",
        "            axis=1\n",
        "        )\n",
        "    \n",
        "    # Compute firing rates for the specified epoch\n",
        "    epoch_col = f\"{fr_prefix}_epoch\"\n",
        "    print(f\"Computing firing rates for {epoch_col}...\")\n",
        "    \n",
        "    df_sample_new[epoch_col] = df_sample_new.apply(\n",
        "        lambda row: [\n",
        "            # Count spikes in epoch window and convert to Hz\n",
        "            np.sum((np.ravel(row[\"timestamps\"]) >= epoch_on) & \n",
        "                   (np.ravel(row[\"timestamps\"]) < epoch_off)) / ((epoch_off - epoch_on) / 1e6)\n",
        "            for epoch_on, epoch_off in epoch_ts[row[\"unit_id\"]]\n",
        "        ],\n",
        "        axis=1\n",
        "    )\n",
        "    \n",
        "    # Add trial numbers if not already present\n",
        "    if \"trial_nr\" not in df_sample_new.columns:\n",
        "        df_sample_new[\"trial_nr\"] = df_sample_new[epoch_col].apply(lambda x: np.arange(len(x)))\n",
        "    \n",
        "    return df_sample_new\n",
        "\n",
        "\n",
        "print(\"Computing firing rates for all task epochs...\")\n",
        "\n",
        "# Compute firing rates for each task epoch\n",
        "# Each call adds a new firing rate column to the dataframe\n",
        "\n",
        "# 1. First stimulus encoding period (from stimulus onset to delay start)\n",
        "df_sample_new = compute_firing_rates(df_sample_new, 'idxEnc1', 'idxDel1', fr_prefix='fr')\n",
        "\n",
        "# 2. First delay period (between first stimulus and second stimulus)  \n",
        "df_sample_new = compute_firing_rates(df_sample_new, 'idxDel1', 'idxEnc2', fr_prefix='fr_del1')\n",
        "\n",
        "# 3. Second stimulus encoding period (from second stimulus onset to second delay)\n",
        "df_sample_new = compute_firing_rates(df_sample_new, 'idxEnc2', 'idxDel2', fr_prefix='fr_enc2')\n",
        "\n",
        "# 4. Second delay period (between second stimulus and probe)\n",
        "df_sample_new = compute_firing_rates(df_sample_new, 'idxDel2', 'idxProbeOn', fr_prefix='fr_del2')\n",
        "\n",
        "# 5. Response period (±0.5 second window around button press)\n",
        "df_sample_new = compute_firing_rates(df_sample_new, 'idxResp', None, fr_prefix='fr_resp', \n",
        "                                   is_window=True, window_size=0.5)\n",
        "\n",
        "print(\"Expanding dataframe from unit-based to trial-based format...\")\n",
        "\n",
        "# Transform from unit-level to trial-level format\n",
        "# Each unit currently has lists of firing rates (one per trial)\n",
        "# After exploding, each row will represent one unit-trial combination\n",
        "columns_to_explode = ['fr_baseline', 'fr_epoch', 'fr_del1_epoch', 'fr_enc2_epoch', \n",
        "                      'fr_del2_epoch', 'fr_resp_epoch', \"trial_nr\"]\n",
        "df_sample_new = df_sample_new.explode(columns_to_explode)\n",
        "\n",
        "print(f\"Final neural data shape: {df_sample_new.shape}\")\n"
      ]
    },
    {
      "cell_type": "code",
      "execution_count": 11,
      "metadata": {},
      "outputs": [
        {
          "name": "stdout",
          "output_type": "stream",
          "text": [
            "Merging neural data with trial information...\n",
            "Combined data shape: (141120, 63)\n",
            "Converting stimulus variables to simple string format for statistical analysis...\n",
            "Final processed dataset shape: (141120, 58)\n",
            "Stimulus categories: ['2' '1' '3' '4']\n",
            "Stimulus numbers: ['5' '1']\n"
          ]
        }
      ],
      "source": [
        "print(\"Merging neural data with trial information...\")\n",
        "\n",
        "# Reset indices to ensure proper alignment\n",
        "df_sample_new = df_sample_new.reset_index(drop=True)\n",
        "trial_info = trial_info.reset_index(drop=True)\n",
        "\n",
        "# Merge neural firing rates with behavioral trial data\n",
        "# This combines unit-trial firing rates with stimulus information for each trial\n",
        "data = pd.merge(\n",
        "    df_sample_new,\n",
        "    trial_info,\n",
        "    on=[\"unit_id\", \"trial_nr\"],  # Join on unit and trial identifiers\n",
        "    how=\"left\",                  # Keep all neural data, add matching trial info\n",
        ").infer_objects()\n",
        "\n",
        "print(f\"Combined data shape: {data.shape}\")\n",
        "\n",
        "# Select columns needed for selectivity analysis\n",
        "# Include: neural identifiers, firing rates, stimulus properties, task timing\n",
        "cols_to_keep = [\n",
        "    # Neural data identifiers and firing rates\n",
        "    \"unit_id\", \"timestamps\", \"brainAreaOfCell\", \n",
        "    \"fr_epoch\", \"fr_baseline\", \"fr_del1_epoch\", \"fr_enc2_epoch\", \"fr_del2_epoch\", \"fr_resp_epoch\", \n",
        "    \"trial_nr\",\n",
        "    \n",
        "    # Stimulus properties for selectivity analysis\n",
        "    \"first_cat\", \"second_cat\", \"first_num\", \"second_num\",\n",
        "    \"first_pic\", \"second_pic\", \"probe_cat\", \"probe_pic\",\n",
        "    \n",
        "    # Task variables\n",
        "    \"probe_validity\", \"probe_num\", \"correct_answer\",\n",
        "    \"rt\", \"acc\", \"key\", \"cat_comparison\", \n",
        "    \n",
        "    # Event timing and metadata\n",
        "    \"events\", \"nTrials\", \"Trials\", \n",
        "    \"idxEnc1\", \"idxEnc2\", \"idxDel1\", \"idxDel2\", \"idxProbeOn\", \"idxResp\", \n",
        "    \"nrProcessed\", \"periods_Enc1\", \"periods_Enc2\", \"periods_Del1\", \"periods_Del2\", \n",
        "    \"periods_Probe\", \"periods_Resp\", \"prestimEnc\", \"prestimMaint\", \"prestimProbe\",\n",
        "    \"prestimButtonPress\", \"poststimEnc\", \"poststimMaint\", \"poststimProbe\", \n",
        "    \"poststimButtonPress\", \"sessionIdx\", \"channel\", \"cellNr\", \"sessionID\", \"origClusterID\"\n",
        "]\n",
        "\n",
        "# Create filtered dataset with only necessary columns\n",
        "data_filtered = data[cols_to_keep].copy()\n",
        "\n",
        "print(\"Converting stimulus variables to simple string format for statistical analysis...\")\n",
        "\n",
        "# Convert stimulus variables to simple string format\n",
        "# MATLAB arrays need to be converted to hashable Python types for grouping operations\n",
        "data_filtered[\"first_cat_simple\"] = data_filtered[\"first_cat\"].apply(\n",
        "    lambda x: str(np.squeeze(x)) if isinstance(x, (list, np.ndarray)) else str(x)\n",
        ")\n",
        "data_filtered[\"second_cat_simple\"] = data_filtered[\"second_cat\"].apply(\n",
        "    lambda x: str(np.squeeze(x)) if isinstance(x, (list, np.ndarray)) else str(x)\n",
        ")\n",
        "data_filtered[\"first_num_simple\"] = data_filtered[\"first_num\"].apply(\n",
        "    lambda x: str(np.squeeze(x)) if isinstance(x, (list, np.ndarray)) else str(x)\n",
        ")\n",
        "data_filtered[\"second_num_simple\"] = data_filtered[\"second_num\"].apply(\n",
        "    lambda x: str(np.squeeze(x)) if isinstance(x, (list, np.ndarray)) else str(x)\n",
        ")\n",
        "\n",
        "print(f\"Final processed dataset shape: {data_filtered.shape}\")\n",
        "print(f\"Stimulus categories: {data_filtered['first_cat_simple'].unique()}\")\n",
        "print(f\"Stimulus numbers: {data_filtered['first_num_simple'].unique()}\")\n"
      ]
    },
    {
      "cell_type": "code",
      "execution_count": 14,
      "metadata": {},
      "outputs": [
        {
          "name": "stdout",
          "output_type": "stream",
          "text": [
            "Conditions found: ['1_1', '1_5', '2_1', '2_5', '3_1', '3_5', '4_1', '4_5']\n",
            "Number of units: 490\n",
            "Number of trials: 288\n"
          ]
        }
      ],
      "source": [
        "# Create condition labels\n",
        "data_filtered['condition'] = data_filtered['first_cat_simple'] + '_' + data_filtered['first_num_simple'].astype(str)\n",
        "\n",
        "# Get unique conditions\n",
        "conditions = sorted(data_filtered['condition'].unique())\n",
        "print(f\"Conditions found: {conditions}\")\n",
        "print(f\"Number of units: {data_filtered['unit_id'].nunique()}\")\n",
        "print(f\"Number of trials: {data_filtered['trial_nr'].nunique()}\")\n"
      ]
    },
    {
      "cell_type": "markdown",
      "metadata": {
        "vscode": {
          "languageId": "raw"
        }
      },
      "source": [
        "## 3: Extract Neural Population Patterns\n"
      ]
    },
    {
      "cell_type": "code",
      "execution_count": 17,
      "metadata": {},
      "outputs": [
        {
          "name": "stdout",
          "output_type": "stream",
          "text": [
            "Population matrix shape: (8, 490)\n",
            "(conditions × neurons): 8 × 490\n"
          ]
        }
      ],
      "source": [
        "def get_population_vectors(data, conditions):\n",
        "    \"\"\"\n",
        "    Extract population firing rate vectors for each condition\n",
        "    Returns a matrix where rows are conditions and columns are neurons\n",
        "    \"\"\"\n",
        "    population_patterns = []\n",
        "    \n",
        "    for condition in conditions:\n",
        "        # Get trials for this condition\n",
        "        condition_trials = data[data['condition'] == condition]\n",
        "        \n",
        "        # Calculate mean firing rate per neuron\n",
        "        mean_fr = condition_trials.groupby('unit_id')['fr_epoch'].mean()\n",
        "        \n",
        "        # Ensure consistent neuron order\n",
        "        all_units = sorted(data['unit_id'].unique())\n",
        "        condition_vector = [mean_fr.get(unit, 0) for unit in all_units]\n",
        "        \n",
        "        population_patterns.append(condition_vector)\n",
        "    \n",
        "    return np.array(population_patterns)\n",
        "\n",
        "# Get population patterns\n",
        "population_matrix = get_population_vectors(data_filtered, conditions)\n",
        "print(f\"Population matrix shape: {population_matrix.shape}\")\n",
        "print(f\"(conditions × neurons): {len(conditions)} × {data_filtered['unit_id'].nunique()}\")\n"
      ]
    },
    {
      "cell_type": "markdown",
      "metadata": {
        "vscode": {
          "languageId": "raw"
        }
      },
      "source": [
        "## 4: Compute Neural RDM\n"
      ]
    },
    {
      "cell_type": "code",
      "execution_count": 18,
      "metadata": {},
      "outputs": [
        {
          "data": {
            "image/png": "[encoded data removed]",
            "text/plain": [
              "<Figure size 800x700 with 2 Axes>"
            ]
          },
          "metadata": {},
          "output_type": "display_data"
        }
      ],
      "source": [
        "def compute_neural_rdm(population_matrix, metric='correlation'):\n",
        "    \"\"\"\n",
        "    Compute representational dissimilarity matrix from neural patterns\n",
        "    \n",
        "    Args:\n",
        "        population_matrix: conditions × neurons array\n",
        "        metric: 'correlation' or 'euclidean'\n",
        "    \n",
        "    Returns:\n",
        "        RDM: conditions × conditions dissimilarity matrix\n",
        "    \"\"\"\n",
        "    if metric == 'correlation':\n",
        "        # Compute correlation distance (1 - correlation)\n",
        "        rdm = 1 - np.corrcoef(population_matrix)\n",
        "        np.fill_diagonal(rdm, 0)  # Ensure diagonal is exactly 0\n",
        "    else:\n",
        "        # Compute pairwise distances\n",
        "        rdm = squareform(pdist(population_matrix, metric=metric))\n",
        "    \n",
        "    return rdm\n",
        "\n",
        "# Compute neural RDM\n",
        "neural_rdm = compute_neural_rdm(population_matrix, metric='correlation')\n",
        "\n",
        "# Visualize\n",
        "plt.figure(figsize=(8, 7))\n",
        "sns.heatmap(neural_rdm, \n",
        "            xticklabels=conditions,\n",
        "            yticklabels=conditions,\n",
        "            cmap='viridis',\n",
        "            square=True,\n",
        "            cbar_kws={'label': 'Neural Dissimilarity'})\n",
        "plt.title('Neural Representational Dissimilarity Matrix')\n",
        "plt.tight_layout()\n",
        "plt.show()\n"
      ]
    },
    {
      "cell_type": "markdown",
      "metadata": {
        "vscode": {
          "languageId": "raw"
        }
      },
      "source": [
        "## 5: Create Model RDMs\n"
      ]
    },
    {
      "cell_type": "code",
      "execution_count": 19,
      "metadata": {},
      "outputs": [
        {
          "data": {
            "image/png": "[encoded data removed]",
            "text/plain": [
              "<Figure size 1200x1000 with 8 Axes>"
            ]
          },
          "metadata": {},
          "output_type": "display_data"
        }
      ],
      "source": [
        "def create_model_rdms(conditions):\n",
        "    \"\"\"\n",
        "    Create theoretical RDMs for different coding schemes\n",
        "    \"\"\"\n",
        "    n_conditions = len(conditions)\n",
        "    \n",
        "    # Parse conditions\n",
        "    parsed = []\n",
        "    for cond in conditions:\n",
        "        parts = cond.split('_')\n",
        "        category = parts[0]\n",
        "        number = int(parts[1])\n",
        "        parsed.append((category, number))\n",
        "    \n",
        "    # Model 1: Pure Category Coding\n",
        "    category_rdm = np.zeros((n_conditions, n_conditions))\n",
        "    for i in range(n_conditions):\n",
        "        for j in range(n_conditions):\n",
        "            if parsed[i][0] != parsed[j][0]:\n",
        "                category_rdm[i, j] = 1\n",
        "    \n",
        "    # Model 2: Pure Number Coding  \n",
        "    number_rdm = np.zeros((n_conditions, n_conditions))\n",
        "    for i in range(n_conditions):\n",
        "        for j in range(n_conditions):\n",
        "            if parsed[i][1] != parsed[j][1]:\n",
        "                number_rdm[i, j] = 1\n",
        "    \n",
        "    # Model 3: Conjunctive Coding\n",
        "    conjunctive_rdm = np.zeros((n_conditions, n_conditions))\n",
        "    for i in range(n_conditions):\n",
        "        for j in range(n_conditions):\n",
        "            if i != j:  # Different only if completely different\n",
        "                conjunctive_rdm[i, j] = 1\n",
        "    \n",
        "    # Model 4: Additive Coding\n",
        "    additive_rdm = (category_rdm + number_rdm) / 2\n",
        "    \n",
        "    return {\n",
        "        'Category Only': category_rdm,\n",
        "        'Number Only': number_rdm,\n",
        "        'Conjunctive': conjunctive_rdm,\n",
        "        'Additive': additive_rdm\n",
        "    }\n",
        "\n",
        "# Create model RDMs\n",
        "model_rdms = create_model_rdms(conditions)\n",
        "\n",
        "# Visualize all models\n",
        "fig, axes = plt.subplots(2, 2, figsize=(12, 10))\n",
        "axes = axes.ravel()\n",
        "\n",
        "for idx, (model_name, model_rdm) in enumerate(model_rdms.items()):\n",
        "    ax = axes[idx]\n",
        "    sns.heatmap(model_rdm,\n",
        "                xticklabels=conditions,\n",
        "                yticklabels=conditions,\n",
        "                cmap='viridis',\n",
        "                square=True,\n",
        "                cbar_kws={'label': 'Dissimilarity'},\n",
        "                ax=ax)\n",
        "    ax.set_title(f'{model_name} Model')\n",
        "\n",
        "plt.tight_layout()\n",
        "plt.show()\n"
      ]
    },
    {
      "cell_type": "markdown",
      "metadata": {
        "vscode": {
          "languageId": "raw"
        }
      },
      "source": [
        "## 6: Compare Neural RDM with Model RDMs\n"
      ]
    },
    {
      "cell_type": "code",
      "execution_count": 20,
      "metadata": {},
      "outputs": [
        {
          "name": "stdout",
          "output_type": "stream",
          "text": [
            "RSA Results (correlation with neural RDM):\n",
            "--------------------------------------------------\n",
            "Category Only   r = 0.606, p = 0.0006\n",
            "Additive        r = 0.348, p = 0.0692\n",
            "Number Only     r = -0.080, p = 0.6842\n",
            "Conjunctive     r = nan, p = nan\n"
          ]
        },
        {
          "data": {
            "image/png": "[encoded data removed]",
            "text/plain": [
              "<Figure size 800x600 with 1 Axes>"
            ]
          },
          "metadata": {},
          "output_type": "display_data"
        }
      ],
      "source": [
        "def compare_rdms(neural_rdm, model_rdms):\n",
        "    \"\"\"\n",
        "    Correlate neural RDM with each model RDM\n",
        "    \"\"\"\n",
        "    # Get upper triangular indices (excluding diagonal)\n",
        "    triu_indices = np.triu_indices_from(neural_rdm, k=1)\n",
        "    \n",
        "    # Vectorize neural RDM\n",
        "    neural_vector = neural_rdm[triu_indices]\n",
        "    \n",
        "    results = {}\n",
        "    for model_name, model_rdm in model_rdms.items():\n",
        "        # Vectorize model RDM\n",
        "        model_vector = model_rdm[triu_indices]\n",
        "        \n",
        "        # Compute Spearman correlation\n",
        "        r, p = spearmanr(neural_vector, model_vector)\n",
        "        \n",
        "        results[model_name] = {\n",
        "            'correlation': r,\n",
        "            'p_value': p\n",
        "        }\n",
        "    \n",
        "    return results\n",
        "\n",
        "# Run comparison\n",
        "rsa_results = compare_rdms(neural_rdm, model_rdms)\n",
        "\n",
        "# Display results\n",
        "results_df = pd.DataFrame(rsa_results).T\n",
        "results_df = results_df.sort_values('correlation', ascending=False)\n",
        "\n",
        "print(\"RSA Results (correlation with neural RDM):\")\n",
        "print(\"-\" * 50)\n",
        "for model, row in results_df.iterrows():\n",
        "    print(f\"{model:15} r = {row['correlation']:.3f}, p = {row['p_value']:.4f}\")\n",
        "\n",
        "# Visualize\n",
        "plt.figure(figsize=(8, 6))\n",
        "bars = plt.bar(results_df.index, results_df['correlation'], \n",
        "                color=['green' if p < 0.05 else 'gray' \n",
        "                       for p in results_df['p_value']])\n",
        "plt.axhline(y=0, color='black', linestyle='-', linewidth=0.5)\n",
        "plt.ylabel('Correlation with Neural RDM')\n",
        "plt.title('Model Comparison Results')\n",
        "plt.xticks(rotation=45)\n",
        "\n",
        "# Add significance stars\n",
        "for i, (model, row) in enumerate(results_df.iterrows()):\n",
        "    if row['p_value'] < 0.001:\n",
        "        plt.text(i, row['correlation'] + 0.02, '***', ha='center')\n",
        "    elif row['p_value'] < 0.01:\n",
        "        plt.text(i, row['correlation'] + 0.02, '**', ha='center')\n",
        "    elif row['p_value'] < 0.05:\n",
        "        plt.text(i, row['correlation'] + 0.02, '*', ha='center')\n",
        "\n",
        "plt.tight_layout()\n",
        "plt.show()\n"
      ]
    },
    {
      "cell_type": "markdown",
      "metadata": {
        "vscode": {
          "languageId": "raw"
        }
      },
      "source": [
        "## 7: Cross-Decoding Analysis\n"
      ]
    },
    {
      "cell_type": "code",
      "execution_count": 26,
      "metadata": {},
      "outputs": [
        {
          "name": "stdout",
          "output_type": "stream",
          "text": [
            "Warning: Not enough trials for reliable cross-decoding\n"
          ]
        }
      ],
      "source": [
        "def prepare_decoding_data(data):\n",
        "    \"\"\"\n",
        "    Prepare data for decoding analysis\n",
        "    Returns feature matrix X and labels\n",
        "    \"\"\"\n",
        "    # Create trial × neuron matrix\n",
        "    trial_neuron_matrix = data.pivot_table(\n",
        "        values='fr_epoch',\n",
        "        index='trial_nr',\n",
        "        columns='unit_id',\n",
        "        aggfunc='mean'\n",
        "    ).fillna(0)\n",
        "    \n",
        "    # Get labels for each trial\n",
        "    trial_labels = data.groupby('trial_nr').first()[\n",
        "        ['first_cat_simple', 'first_num_simple']\n",
        "    ]\n",
        "    \n",
        "    # Align with matrix\n",
        "    trial_labels = trial_labels.loc[trial_neuron_matrix.index]\n",
        "    \n",
        "    return trial_neuron_matrix.values, trial_labels\n",
        "\n",
        "# Prepare data\n",
        "X, labels = prepare_decoding_data(data_filtered)\n",
        "\n",
        "def cross_decode_categories(X, labels):\n",
        "    \"\"\"\n",
        "    Test if category decoder generalizes across numbers\n",
        "    \"\"\"\n",
        "    categories = labels['first_cat_simple'].values\n",
        "    numbers = labels['first_num_simple'].values\n",
        "    \n",
        "    # Train on number=1, test on number=5\n",
        "    train_mask = numbers == 1\n",
        "    test_mask = numbers == 5\n",
        "    \n",
        "    # Ensure we have enough samples\n",
        "    if train_mask.sum() < 4 or test_mask.sum() < 4:\n",
        "        print(\"Warning: Not enough trials for reliable cross-decoding\")\n",
        "        return None\n",
        "    \n",
        "    # Train decoder\n",
        "    clf = Pipeline([\n",
        "        ('scaler', StandardScaler()),\n",
        "        ('svc', SVC(kernel='linear', C=1.0))\n",
        "    ])\n",
        "    \n",
        "    # Fit on number=1 trials\n",
        "    clf.fit(X[train_mask], categories[train_mask])\n",
        "    \n",
        "    # Test on number=5 trials\n",
        "    cross_accuracy = clf.score(X[test_mask], categories[test_mask])\n",
        "    \n",
        "    # For comparison: within-number decoding\n",
        "    within_scores = cross_val_score(\n",
        "        clf, X[test_mask], categories[test_mask], \n",
        "        cv=5, scoring='accuracy'\n",
        "    )\n",
        "    within_accuracy = within_scores.mean()\n",
        "    \n",
        "    return {\n",
        "        'cross_number_accuracy': cross_accuracy,\n",
        "        'within_number_accuracy': within_accuracy,\n",
        "        'generalization_index': cross_accuracy / within_accuracy if within_accuracy > 0 else 0\n",
        "    }\n",
        "\n",
        "# Run cross-decoding\n",
        "cross_results = cross_decode_categories(X, labels)\n",
        "\n",
        "if cross_results:\n",
        "    print(\"\\nCross-Decoding Results (Category):\")\n",
        "    print(\"-\" * 50)\n",
        "    print(f\"Train on num=1, test on num=5: {cross_results['cross_number_accuracy']:.3f}\")\n",
        "    print(f\"Train and test on num=5:       {cross_results['within_number_accuracy']:.3f}\")\n",
        "    print(f\"Generalization index:          {cross_results['generalization_index']:.3f}\")\n",
        "    print(\"\\nInterpretation:\")\n",
        "    if cross_results['generalization_index'] > 0.8:\n",
        "        print(\"→ Strong evidence for ABSTRACT category coding\")\n",
        "    elif cross_results['generalization_index'] < 0.6:\n",
        "        print(\"→ Strong evidence for CONJUNCTIVE coding\")\n",
        "    else:\n",
        "        print(\"→ Mixed or partial generalization\")\n"
      ]
    },
    {
      "cell_type": "markdown",
      "metadata": {
        "vscode": {
          "languageId": "raw"
        }
      },
      "source": [
        "## 8: Plot\n"
      ]
    },
    {
      "cell_type": "code",
      "execution_count": null,
      "metadata": {},
      "outputs": [],
      "source": [
        "def create_summary_figure(neural_rdm, model_rdms, rsa_results, cross_results):\n",
        "    \"\"\"\n",
        "    Create a comprehensive summary figure\n",
        "    \"\"\"\n",
        "    fig = plt.figure(figsize=(16, 10))\n",
        "    \n",
        "    # Neural RDM\n",
        "    ax1 = plt.subplot(2, 3, 1)\n",
        "    sns.heatmap(neural_rdm, cmap='viridis', square=True,\n",
        "                xticklabels=conditions, yticklabels=conditions,\n",
        "                cbar_kws={'label': 'Dissimilarity'})\n",
        "    ax1.set_title('Neural RDM', fontsize=14, fontweight='bold')\n",
        "    \n",
        "    # Best fitting model\n",
        "    best_model = max(rsa_results, key=lambda x: rsa_results[x]['correlation'])\n",
        "    ax2 = plt.subplot(2, 3, 2)\n",
        "    sns.heatmap(model_rdms[best_model], cmap='viridis', square=True,\n",
        "                xticklabels=conditions, yticklabels=conditions,\n",
        "                cbar_kws={'label': 'Dissimilarity'})\n",
        "    ax2.set_title(f'Best Model: {best_model}', fontsize=14, fontweight='bold')\n",
        "    \n",
        "    # Model correlations\n",
        "    ax3 = plt.subplot(2, 3, 3)\n",
        "    results_df = pd.DataFrame(rsa_results).T.sort_values('correlation', ascending=False)\n",
        "    bars = ax3.bar(range(len(results_df)), results_df['correlation'],\n",
        "                    color=['green' if p < 0.05 else 'gray' \n",
        "                           for p in results_df['p_value']])\n",
        "    ax3.set_xticks(range(len(results_df)))\n",
        "    ax3.set_xticklabels(results_df.index, rotation=45, ha='right')\n",
        "    ax3.set_ylabel('Correlation with Neural RDM')\n",
        "    ax3.set_title('Model Fits', fontsize=14, fontweight='bold')\n",
        "    ax3.axhline(y=0, color='black', linewidth=0.5)\n",
        "    \n",
        "    # Cross-decoding results\n",
        "    if cross_results:\n",
        "        ax4 = plt.subplot(2, 3, 4)\n",
        "        accuracies = [cross_results['cross_number_accuracy'], \n",
        "                      cross_results['within_number_accuracy']]\n",
        "        labels_acc = ['Cross-number\\n(train 1, test 5)', 'Within-number\\n(train/test 5)']\n",
        "        bars = ax4.bar(labels_acc, accuracies, color=['coral', 'skyblue'])\n",
        "        ax4.axhline(y=0.5, color='black', linestyle='--', alpha=0.5, label='Chance')\n",
        "        ax4.set_ylabel('Decoding Accuracy')\n",
        "        ax4.set_title('Category Decoding', fontsize=14, fontweight='bold')\n",
        "        ax4.set_ylim(0, 1)\n",
        "        \n",
        "        # Add accuracy values on bars\n",
        "        for bar, acc in zip(bars, accuracies):\n",
        "            ax4.text(bar.get_x() + bar.get_width()/2, bar.get_height() + 0.01,\n",
        "                    f'{acc:.2f}', ha='center', va='bottom')\n",
        "    \n",
        "    # Interpretation text\n",
        "    ax5 = plt.subplot(2, 3, 5)\n",
        "    ax5.axis('off')\n",
        "    \n",
        "    # Build interpretation\n",
        "    interpretation = \"INTERPRETATION:\\n\\n\"\n",
        "    \n",
        "    # RSA interpretation\n",
        "    if rsa_results['Category Only']['correlation'] > 0.6:\n",
        "        interpretation += \"• Strong category representation\\n\"\n",
        "    if rsa_results['Number Only']['correlation'] > 0.6:\n",
        "        interpretation += \"• Strong number representation\\n\"\n",
        "    if rsa_results['Conjunctive']['correlation'] > 0.6:\n",
        "        interpretation += \"• Evidence for bound representations\\n\"\n",
        "    elif rsa_results['Additive']['correlation'] > 0.6:\n",
        "        interpretation += \"• Features coded independently\\n\"\n",
        "    \n",
        "    # Cross-decoding interpretation\n",
        "    if cross_results and cross_results['generalization_index'] > 0.8:\n",
        "        interpretation += \"\\n• Categories generalize across numbers\\n\"\n",
        "        interpretation += \"  → Abstract category coding\"\n",
        "    elif cross_results and cross_results['generalization_index'] < 0.6:\n",
        "        interpretation += \"\\n• Categories do NOT generalize\\n\"\n",
        "        interpretation += \"  → Conjunctive coding\"\n",
        "    \n",
        "    ax5.text(0.1, 0.9, interpretation, transform=ax5.transAxes,\n",
        "             fontsize=12, verticalalignment='top',\n",
        "             bbox=dict(boxstyle='round', facecolor='wheat', alpha=0.5))\n",
        "    \n",
        "    plt.tight_layout()\n",
        "    return fig\n",
        "\n",
        "# Create summary\n",
        "if cross_results:\n",
        "    fig = create_summary_figure(neural_rdm, model_rdms, rsa_results, cross_results)\n",
        "    plt.show()\n"
      ]
    },
    {
      "cell_type": "markdown",
      "metadata": {
        "vscode": {
          "languageId": "raw"
        }
      },
      "source": [
        "## 9: Statistical Tests and Noise Ceiling\n"
      ]
    },
    {
      "cell_type": "code",
      "execution_count": null,
      "metadata": {},
      "outputs": [],
      "source": [
        "def bootstrap_rdm_correlation(neural_data, model_rdm, n_bootstrap=1000):\n",
        "    \"\"\"\n",
        "    Bootstrap confidence intervals for RDM correlations\n",
        "    \"\"\"\n",
        "    n_conditions = len(conditions)\n",
        "    correlations = []\n",
        "    \n",
        "    for _ in range(n_bootstrap):\n",
        "        # Resample trials with replacement\n",
        "        resampled_indices = np.random.choice(\n",
        "            len(data), size=len(data), replace=True\n",
        "        )\n",
        "        resampled_data = data.iloc[resampled_indices]\n",
        "        \n",
        "        # Compute RDM for resampled data\n",
        "        pop_matrix = get_population_vectors(resampled_data, conditions)\n",
        "        resampled_rdm = compute_neural_rdm(pop_matrix)\n",
        "        \n",
        "        # Correlate with model\n",
        "        triu_idx = np.triu_indices_from(resampled_rdm, k=1)\n",
        "        r, _ = spearmanr(resampled_rdm[triu_idx], model_rdm[triu_idx])\n",
        "        correlations.append(r)\n",
        "    \n",
        "    # Compute confidence intervals\n",
        "    ci_lower = np.percentile(correlations, 2.5)\n",
        "    ci_upper = np.percentile(correlations, 97.5)\n",
        "    \n",
        "    return ci_lower, ci_upper\n",
        "\n",
        "# Example: Bootstrap best model\n",
        "best_model = max(rsa_results, key=lambda x: rsa_results[x]['correlation'])\n",
        "ci_lower, ci_upper = bootstrap_rdm_correlation(data, model_rdms[best_model])\n",
        "\n",
        "print(f\"\\nBootstrap CI for {best_model} model:\")\n",
        "print(f\"95% CI: [{ci_lower:.3f}, {ci_upper:.3f}]\")\n"
      ]
    },
    {
      "cell_type": "markdown",
      "metadata": {
        "vscode": {
          "languageId": "raw"
        }
      },
      "source": [
        "## Next Steps and Extensions\n",
        "\n",
        "1. **Temporal Dynamics**: Analyze how representations evolve over time during encoding\n",
        "2. **Individual Differences**: Check if some participants use abstract vs conjunctive strategies\n",
        "3. **Load Effects**: Compare low load (current analysis) vs high load conditions\n",
        "4. **Regional Differences**: If you have electrode locations, compare brain regions\n",
        "5. **Error Trials**: Analyze how representation quality predicts subsequent memory performance\n"
      ]
    }
  ],
  "metadata": {
    "kernelspec": {
      "display_name": ".venv",
      "language": "python",
      "name": "python3"
    },
    "language_info": {
      "codemirror_mode": {
        "name": "ipython",
        "version": 3
      },
      "file_extension": ".py",
      "mimetype": "text/x-python",
      "name": "python",
      "nbconvert_exporter": "python",
      "pygments_lexer": "ipython3",
      "version": "3.10.11"
    }
  },
  "nbformat": 4,
  "nbformat_minor": 2
}
